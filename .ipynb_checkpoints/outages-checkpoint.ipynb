{
 "cells": [
  {
   "cell_type": "markdown",
   "metadata": {},
   "source": [
    "## Summary of Findings\n",
    "\n",
    "### Introduction\n",
    "Our group decided to predict the the number of major outages in the year 2020. Since, we do not currently have the data for outages in 2020, we will build and test the model on all the previous years to determine its accuracy.\n",
    "\n",
    "### Baseline Model\n",
    "For our baseline model, we decided to take the columns 'Year', 'Month', 'U.S._STATE', 'CAUSE.CATEGORY', 'CUSTOMERS.AFFECTED', 'OUTAGE.DURATION', 'POPULATION', and 'SEVERE_OUTAGE'. We have 2 ordinal, 2 nominal, and 4 quantitative variables. We had to take Year because since it is required to predict the year 2020. Then Month and U.S._STATE we needed so we could predict the different trends that occur during outages, like the different seasons per months and the different weather that occurs per state. Finally, 'CAUSE.CATEGORY', 'CUSTOMERS.AFFECTED', 'OUTAGE.DURATION', 'POPULATION', and 'SEVERE_OUTAGE' were also taken so order to help perdict which outages would be major. For our prediction, we one hot encoded the columns 'U.S._STATE' and 'CAUSE.CATEGORY' which are both categorical, and we did this to remove all the categorical values from the data set to get a better prediction. We chose to use LinearSVC classifiers,because LinearSVC fit our nontext model.\n",
    "\n",
    "### Final Model\n",
    "For our baseline model, We decided improve the prediction by adding more features, like grouping the month into the seasons in order to find any trends in the outages with the seasons. Another is grouping the causes into category of natural cause and human cause with True or False, which will again find any correlation between the outages and its cause. We also binned the data from the columns 'OUTAGE.DURATION' and \"POPULATION\" in order to minimize the effect of outlines on the final prediction. Finally, we added Binarizer to the pipeline to cut off at 1000 for \"CUSTOMERS.AFFECTED\" since that is our cutoff value for evaluating if an outage is major or not.\n",
    "- We improved the model from around 0.83 to 0.95 in terms of the mean accuracy prediction.\n",
    "- The recall parity scores also improved from the median of 0.88 in the baseline model to above 0.95 consistenly in the final model\n",
    "\n",
    "### Fairness Evaluation\n",
    "1. We first created an empty dataframe that included three columns: the seperated groups of before(exclusive) 2012 and after(inclusive) 2012 as observed groups, predictions of y_test from X_test, and the actual y_test.\n",
    "2. We then utlized recall/true postive rate as our parity measure because it predicts the actual correctness of our prediction, which is more important to us because we wanted the amount of severe outages accurately predicted. \n",
    "3. We then performed permutation test of 100 iteration to see if our parity test for two groups (before 2012 and after 2012) is fair.\n",
    "\n",
    "##### P-value obervation:\n",
    "- We found the p-value to be 0.01 for 100 iteration, therefore we reject the null hypothesis and take the alternative hypthoesis (The recall scores for before 2012 and after 2012 is significantly differnt) at 5 percent test statistic.\n",
    "\n",
    "##### Why is the recall scores before 2012 and after 2012 significantly different?\n",
    "- We believe it is because there are more severe outages before 2012 and the model could better study the correlation for prediction. You can see the graph we had made below.\n",
    "- We also believe the difference in recall score is not that important, because our lowest score is still above 0.95, so the correct prediction accuracy is still relatively high."
   ]
  },
  {
   "cell_type": "code",
   "execution_count": 126,
   "metadata": {},
   "outputs": [
    {
     "data": {
      "text/html": [
       "<div>\n",
       "<style scoped>\n",
       "    .dataframe tbody tr th:only-of-type {\n",
       "        vertical-align: middle;\n",
       "    }\n",
       "\n",
       "    .dataframe tbody tr th {\n",
       "        vertical-align: top;\n",
       "    }\n",
       "\n",
       "    .dataframe thead th {\n",
       "        text-align: right;\n",
       "    }\n",
       "</style>\n",
       "<table border=\"1\" class=\"dataframe\">\n",
       "  <thead>\n",
       "    <tr style=\"text-align: right;\">\n",
       "      <th></th>\n",
       "      <th>SEVERE_OUTAGE</th>\n",
       "    </tr>\n",
       "    <tr>\n",
       "      <th>after_2012</th>\n",
       "      <th></th>\n",
       "    </tr>\n",
       "  </thead>\n",
       "  <tbody>\n",
       "    <tr>\n",
       "      <td>False</td>\n",
       "      <td>0.809630</td>\n",
       "    </tr>\n",
       "    <tr>\n",
       "      <td>True</td>\n",
       "      <td>0.575601</td>\n",
       "    </tr>\n",
       "  </tbody>\n",
       "</table>\n",
       "</div>"
      ],
      "text/plain": [
       "            SEVERE_OUTAGE\n",
       "after_2012               \n",
       "False            0.809630\n",
       "True             0.575601"
      ]
     },
     "execution_count": 126,
     "metadata": {},
     "output_type": "execute_result"
    }
   ],
   "source": [
    "temp = outages_for_model.copy()\n",
    "temp['after_2012'] = outages_for_model.YEAR >=2012\n",
    "pd.pivot_table(temp,index = ['after_2012'],values = ['SEVERE_OUTAGE'])"
   ]
  },
  {
   "cell_type": "markdown",
   "metadata": {},
   "source": [
    "# Code"
   ]
  },
  {
   "cell_type": "code",
   "execution_count": 36,
   "metadata": {},
   "outputs": [],
   "source": [
    "import matplotlib.pyplot as plt\n",
    "import numpy as np\n",
    "import os\n",
    "import pandas as pd\n",
    "import seaborn as sns\n",
    "%matplotlib inline\n",
    "%config InlineBackend.figure_format = 'retina'  # Higher resolution figures\n",
    "\n",
    "from datetime import datetime\n",
    "from datetime import timedelta\n",
    "from dateutil.parser import parse\n",
    "\n",
    "from sklearn.svm import SVC\n",
    "from sklearn.svm import LinearSVC\n",
    "from sklearn.preprocessing import QuantileTransformer\n",
    "from sklearn.preprocessing import FunctionTransformer\n",
    "from sklearn.preprocessing import OneHotEncoder\n",
    "from sklearn.pipeline import Pipeline\n",
    "from sklearn.compose import ColumnTransformer\n",
    "from sklearn.preprocessing import Binarizer\n",
    "from sklearn import metrics\n",
    "\n",
    "from sklearn.model_selection import train_test_split\n",
    "import warnings\n",
    "warnings.simplefilter('ignore')"
   ]
  },
  {
   "cell_type": "code",
   "execution_count": 19,
   "metadata": {},
   "outputs": [],
   "source": [
    "pd.set_option('display.max_columns', None)"
   ]
  },
  {
   "cell_type": "markdown",
   "metadata": {},
   "source": [
    "### Cleaning"
   ]
  },
  {
   "cell_type": "code",
   "execution_count": 20,
   "metadata": {
    "scrolled": true
   },
   "outputs": [],
   "source": [
    "outages = pd.read_excel('outage.xlsx')"
   ]
  },
  {
   "cell_type": "markdown",
   "metadata": {},
   "source": [
    "In the cell below, I dropped the rows and columns with no values and set the column title with appropriate row."
   ]
  },
  {
   "cell_type": "code",
   "execution_count": 21,
   "metadata": {
    "ExecuteTime": {
     "end_time": "2019-10-31T23:36:28.657068Z",
     "start_time": "2019-10-31T23:36:28.654650Z"
    }
   },
   "outputs": [],
   "source": [
    "#Cleaning of the data\n",
    "outages.columns = outages.iloc[4].values # setting column name to the correct row\n",
    "outages_cleaned = outages.drop([0,1,2,3,4,5]) #dropped empty rows that holds no value or data\n",
    "outages_cleaned = outages_cleaned.reset_index(drop = True) #resetting index for clarity\n",
    "\n",
    "#dropping column with number of observations and 'variables that holds no meaning as a column\n",
    "outages_cleaned = outages_cleaned.drop(columns = ['OBS','variables']) \n",
    "\n",
    "# fillna CUSTOMERS.AFFECTED with mean of grouped NER.REGION mean due to MAR between two columns\n",
    "outages_cleaned['CUSTOMERS.AFFECTED'] = outages_cleaned['CUSTOMERS.AFFECTED'].astype(float)\n",
    "region_grouped_cust_mean = outages_cleaned.groupby('NERC.REGION')['CUSTOMERS.AFFECTED'].transform(np.mean)\n",
    "outages_cleaned['CUSTOMERS.AFFECTED'] = outages_cleaned['CUSTOMERS.AFFECTED'].fillna(region_grouped_cust_mean)\n",
    "\n",
    "# fillna OUTAGE.DURATION with mean of grouped NER.REGION mean due to MAR between two columns\n",
    "outages_cleaned['OUTAGE.DURATION'] = outages_cleaned['OUTAGE.DURATION'].astype(float)"
   ]
  },
  {
   "cell_type": "markdown",
   "metadata": {},
   "source": [
    "We dropped the nan value in OUTAGE.DURATION becuase it would skew the data if we fill it with mean or proportion. We see the proportion of nan value in each state to see if we drop the value it would have a significant effect. We discover the proportion of nan value only represent maxium of less than FIVE precent of the data in each state with the exception of Alaska, where the nan value is presented one hundred percent of the time. We decided it would bemore accurate for the prediction to drop the Nan values instead of filling it."
   ]
  },
  {
   "cell_type": "code",
   "execution_count": 22,
   "metadata": {},
   "outputs": [
    {
     "data": {
      "text/plain": [
       "Alabama                 0.166667\n",
       "Alaska                  1.000000\n",
       "Arizona                 0.107143\n",
       "Arkansas                     NaN\n",
       "California              0.057143\n",
       "Colorado                0.066667\n",
       "Connecticut                  NaN\n",
       "Delaware                0.024390\n",
       "District of Columbia         NaN\n",
       "Florida                      NaN\n",
       "Georgia                      NaN\n",
       "Hawaii                       NaN\n",
       "Idaho                   0.111111\n",
       "Illinois                0.043478\n",
       "Indiana                 0.023256\n",
       "Iowa                         NaN\n",
       "Kansas                  0.222222\n",
       "Kentucky                     NaN\n",
       "Louisiana               0.050000\n",
       "Maine                   0.052632\n",
       "Maryland                     NaN\n",
       "Massachusetts                NaN\n",
       "Michigan                     NaN\n",
       "Minnesota                    NaN\n",
       "Mississippi                  NaN\n",
       "Missouri                0.117647\n",
       "Montana                      NaN\n",
       "Nebraska                     NaN\n",
       "Nevada                       NaN\n",
       "New Hampshire                NaN\n",
       "New Jersey              0.085714\n",
       "New Mexico                   NaN\n",
       "New York                0.014085\n",
       "North Carolina          0.025000\n",
       "North Dakota            0.500000\n",
       "Ohio                    0.023256\n",
       "Oklahoma                0.083333\n",
       "Oregon                  0.038462\n",
       "Pennsylvania                 NaN\n",
       "South Carolina               NaN\n",
       "South Dakota                 NaN\n",
       "Tennessee               0.088235\n",
       "Texas                   0.039370\n",
       "Utah                         NaN\n",
       "Vermont                      NaN\n",
       "Virginia                0.027027\n",
       "Washington              0.082474\n",
       "West Virginia                NaN\n",
       "Wisconsin               0.050000\n",
       "Wyoming                      NaN\n",
       "Name: U.S._STATE, dtype: float64"
      ]
     },
     "execution_count": 22,
     "metadata": {},
     "output_type": "execute_result"
    }
   ],
   "source": [
    "outages_cleaned[outages_cleaned['OUTAGE.DURATION'].isnull()]['U.S._STATE'].value_counts() / outages_cleaned['U.S._STATE'].value_counts()"
   ]
  },
  {
   "cell_type": "code",
   "execution_count": 23,
   "metadata": {},
   "outputs": [],
   "source": [
    "outages_cleaned = outages_cleaned[outages_cleaned['OUTAGE.DURATION'].notnull()].reset_index(drop = True)\n",
    "outages_cleaned = outages_cleaned[outages_cleaned['CUSTOMERS.AFFECTED'].notnull()].reset_index(drop = True)"
   ]
  },
  {
   "cell_type": "markdown",
   "metadata": {},
   "source": [
    "Helper function for our new column severe_outage that includes more than 1000 people affected and more than 60 minutes during the power outage"
   ]
  },
  {
   "cell_type": "code",
   "execution_count": 24,
   "metadata": {},
   "outputs": [],
   "source": [
    "def severe_outage(df):\n",
    "    if (df[\"CUSTOMERS.AFFECTED\"] >= 1000) and (df[\"OUTAGE.DURATION\"] >= 60):\n",
    "        return True\n",
    "    else:\n",
    "        return False"
   ]
  },
  {
   "cell_type": "markdown",
   "metadata": {},
   "source": [
    "Proportion of severe outages"
   ]
  },
  {
   "cell_type": "code",
   "execution_count": 25,
   "metadata": {},
   "outputs": [
    {
     "data": {
      "text/plain": [
       "True     0.717288\n",
       "False    0.282712\n",
       "Name: SEVERE_OUTAGE, dtype: float64"
      ]
     },
     "execution_count": 25,
     "metadata": {},
     "output_type": "execute_result"
    }
   ],
   "source": [
    "outages_cleaned[\"SEVERE_OUTAGE\"] = outages_cleaned.apply(severe_outage, axis = 1)\n",
    "outages_cleaned[\"SEVERE_OUTAGE\"] = (outages_cleaned['SEVERE_OUTAGE'] == True)\n",
    "outages_cleaned['SEVERE_OUTAGE'].value_counts()/len(outages_cleaned)"
   ]
  },
  {
   "cell_type": "markdown",
   "metadata": {},
   "source": [
    "### Baseline Model"
   ]
  },
  {
   "cell_type": "markdown",
   "metadata": {},
   "source": [
    "We dropped any column we deemed as unnecessary and only kept columns we thought would be important in our final predictions"
   ]
  },
  {
   "cell_type": "code",
   "execution_count": 127,
   "metadata": {},
   "outputs": [
    {
     "data": {
      "text/html": [
       "<div>\n",
       "<style scoped>\n",
       "    .dataframe tbody tr th:only-of-type {\n",
       "        vertical-align: middle;\n",
       "    }\n",
       "\n",
       "    .dataframe tbody tr th {\n",
       "        vertical-align: top;\n",
       "    }\n",
       "\n",
       "    .dataframe thead th {\n",
       "        text-align: right;\n",
       "    }\n",
       "</style>\n",
       "<table border=\"1\" class=\"dataframe\">\n",
       "  <thead>\n",
       "    <tr style=\"text-align: right;\">\n",
       "      <th></th>\n",
       "      <th>YEAR</th>\n",
       "      <th>MONTH</th>\n",
       "      <th>U.S._STATE</th>\n",
       "      <th>CAUSE.CATEGORY</th>\n",
       "      <th>CUSTOMERS.AFFECTED</th>\n",
       "      <th>OUTAGE.DURATION</th>\n",
       "      <th>POPULATION</th>\n",
       "      <th>SEVERE_OUTAGE</th>\n",
       "    </tr>\n",
       "  </thead>\n",
       "  <tbody>\n",
       "    <tr>\n",
       "      <td>0</td>\n",
       "      <td>2011</td>\n",
       "      <td>7</td>\n",
       "      <td>Minnesota</td>\n",
       "      <td>severe weather</td>\n",
       "      <td>70000.000000</td>\n",
       "      <td>3060.0</td>\n",
       "      <td>5348119</td>\n",
       "      <td>True</td>\n",
       "    </tr>\n",
       "    <tr>\n",
       "      <td>1</td>\n",
       "      <td>2014</td>\n",
       "      <td>5</td>\n",
       "      <td>Minnesota</td>\n",
       "      <td>intentional attack</td>\n",
       "      <td>88984.965517</td>\n",
       "      <td>1.0</td>\n",
       "      <td>5457125</td>\n",
       "      <td>False</td>\n",
       "    </tr>\n",
       "    <tr>\n",
       "      <td>2</td>\n",
       "      <td>2010</td>\n",
       "      <td>10</td>\n",
       "      <td>Minnesota</td>\n",
       "      <td>severe weather</td>\n",
       "      <td>70000.000000</td>\n",
       "      <td>3000.0</td>\n",
       "      <td>5310903</td>\n",
       "      <td>True</td>\n",
       "    </tr>\n",
       "    <tr>\n",
       "      <td>3</td>\n",
       "      <td>2012</td>\n",
       "      <td>6</td>\n",
       "      <td>Minnesota</td>\n",
       "      <td>severe weather</td>\n",
       "      <td>68200.000000</td>\n",
       "      <td>2550.0</td>\n",
       "      <td>5380443</td>\n",
       "      <td>True</td>\n",
       "    </tr>\n",
       "    <tr>\n",
       "      <td>4</td>\n",
       "      <td>2015</td>\n",
       "      <td>7</td>\n",
       "      <td>Minnesota</td>\n",
       "      <td>severe weather</td>\n",
       "      <td>250000.000000</td>\n",
       "      <td>1740.0</td>\n",
       "      <td>5489594</td>\n",
       "      <td>True</td>\n",
       "    </tr>\n",
       "  </tbody>\n",
       "</table>\n",
       "</div>"
      ],
      "text/plain": [
       "   YEAR MONTH U.S._STATE      CAUSE.CATEGORY  CUSTOMERS.AFFECTED  \\\n",
       "0  2011     7  Minnesota      severe weather        70000.000000   \n",
       "1  2014     5  Minnesota  intentional attack        88984.965517   \n",
       "2  2010    10  Minnesota      severe weather        70000.000000   \n",
       "3  2012     6  Minnesota      severe weather        68200.000000   \n",
       "4  2015     7  Minnesota      severe weather       250000.000000   \n",
       "\n",
       "   OUTAGE.DURATION POPULATION  SEVERE_OUTAGE  \n",
       "0           3060.0    5348119           True  \n",
       "1              1.0    5457125          False  \n",
       "2           3000.0    5310903           True  \n",
       "3           2550.0    5380443           True  \n",
       "4           1740.0    5489594           True  "
      ]
     },
     "execution_count": 127,
     "metadata": {},
     "output_type": "execute_result"
    }
   ],
   "source": [
    "outages_for_model = outages_cleaned[['YEAR', 'MONTH','U.S._STATE','CAUSE.CATEGORY','CUSTOMERS.AFFECTED', 'OUTAGE.DURATION','POPULATION','SEVERE_OUTAGE']]\n",
    "outages_for_model.head()"
   ]
  },
  {
   "cell_type": "markdown",
   "metadata": {},
   "source": [
    "We only used OneHotEncoder for the baseline inorder to have no categorical variables left in the dataset. So we are predicting just based off of the quantitative data of this dataset. "
   ]
  },
  {
   "cell_type": "code",
   "execution_count": 27,
   "metadata": {},
   "outputs": [
    {
     "data": {
      "text/plain": [
       "0.8261851015801355"
      ]
     },
     "execution_count": 27,
     "metadata": {},
     "output_type": "execute_result"
    }
   ],
   "source": [
    "preproc = ColumnTransformer(transformers=[('encode', OneHotEncoder(handle_unknown = 'ignore'),['U.S._STATE', 'CAUSE.CATEGORY']),\n",
    "                                         ])\n",
    "pl = Pipeline(steps = [('preprocessor',preproc), \n",
    "                       ('baseline classification', LinearSVC())])\n",
    "\n",
    "X = outages_for_model.drop(['SEVERE_OUTAGE'], axis = 1)\n",
    "y = outages_for_model.SEVERE_OUTAGE\n",
    "X_train, X_test, y_train, y_test = train_test_split(X, y, test_size=0.3)\n",
    "pl.fit(X_train, y_train)\n",
    "pl.predict(X_test).sum()\n",
    "pl.score(X_test, y_test)"
   ]
  },
  {
   "cell_type": "code",
   "execution_count": 43,
   "metadata": {},
   "outputs": [],
   "source": [
    "basic_score = []\n",
    "basic_recall_score = []\n",
    "for i in range(100):\n",
    "    preproc = ColumnTransformer(transformers=[('encode', OneHotEncoder(handle_unknown = 'ignore'),['U.S._STATE', 'CAUSE.CATEGORY']),\n",
    "                                             ])\n",
    "\n",
    "    pl = Pipeline(steps = [('preprocessor',preproc), \n",
    "                           ('baseline classification', SVC())])\n",
    "\n",
    "    X = outages_for_model.drop(['SEVERE_OUTAGE'], axis = 1)\n",
    "    y = outages_for_model.SEVERE_OUTAGE\n",
    "    X_train, X_test, y_train, y_test = train_test_split(X, y, test_size=0.3)\n",
    "    pl.fit(X_train, y_train)\n",
    "    pl.predict(X_test).sum()\n",
    "    basic_score.append(pl.score(X_test, y_test))\n",
    "    pred = pl.predict(X_test)\n",
    "    basic_recall_score.append(metrics.recall_score(y_test, pred))"
   ]
  },
  {
   "cell_type": "markdown",
   "metadata": {},
   "source": [
    "After 100 iterations of the predtictions, we were around 82% most of the time, which is pretty good for just our baseline prediction doing the bare minimum."
   ]
  },
  {
   "cell_type": "code",
   "execution_count": 29,
   "metadata": {},
   "outputs": [
    {
     "data": {
      "text/plain": [
       "0.8279006772009029"
      ]
     },
     "execution_count": 29,
     "metadata": {},
     "output_type": "execute_result"
    }
   ],
   "source": [
    "np.mean(basic_score)"
   ]
  },
  {
   "cell_type": "markdown",
   "metadata": {},
   "source": [
    "Our recall score for the basic model was already relatively high, with the median score of around 0.88"
   ]
  },
  {
   "cell_type": "code",
   "execution_count": 46,
   "metadata": {},
   "outputs": [
    {
     "data": {
      "text/plain": [
       "<matplotlib.axes._subplots.AxesSubplot at 0x228fb165c08>"
      ]
     },
     "execution_count": 46,
     "metadata": {},
     "output_type": "execute_result"
    },
    {
     "data": {
      "image/png": "[encoded data removed]",
      "text/plain": [
       "<Figure size 432x288 with 1 Axes>"
      ]
     },
     "metadata": {
      "image/png": {
       "height": 248,
       "width": 369
      },
      "needs_background": "light"
     },
     "output_type": "display_data"
    }
   ],
   "source": [
    "pd.Series(basic_recall_score).hist()"
   ]
  },
  {
   "cell_type": "markdown",
   "metadata": {},
   "source": [
    "### Final Model"
   ]
  },
  {
   "cell_type": "code",
   "execution_count": 128,
   "metadata": {},
   "outputs": [
    {
     "data": {
      "text/html": [
       "<div>\n",
       "<style scoped>\n",
       "    .dataframe tbody tr th:only-of-type {\n",
       "        vertical-align: middle;\n",
       "    }\n",
       "\n",
       "    .dataframe tbody tr th {\n",
       "        vertical-align: top;\n",
       "    }\n",
       "\n",
       "    .dataframe thead th {\n",
       "        text-align: right;\n",
       "    }\n",
       "</style>\n",
       "<table border=\"1\" class=\"dataframe\">\n",
       "  <thead>\n",
       "    <tr style=\"text-align: right;\">\n",
       "      <th></th>\n",
       "      <th>YEAR</th>\n",
       "      <th>MONTH</th>\n",
       "      <th>U.S._STATE</th>\n",
       "      <th>CAUSE.CATEGORY</th>\n",
       "      <th>CUSTOMERS.AFFECTED</th>\n",
       "      <th>OUTAGE.DURATION</th>\n",
       "      <th>POPULATION</th>\n",
       "      <th>SEVERE_OUTAGE</th>\n",
       "    </tr>\n",
       "  </thead>\n",
       "  <tbody>\n",
       "    <tr>\n",
       "      <td>0</td>\n",
       "      <td>2011</td>\n",
       "      <td>7</td>\n",
       "      <td>Minnesota</td>\n",
       "      <td>severe weather</td>\n",
       "      <td>70000.000000</td>\n",
       "      <td>3060.0</td>\n",
       "      <td>5348119</td>\n",
       "      <td>True</td>\n",
       "    </tr>\n",
       "    <tr>\n",
       "      <td>1</td>\n",
       "      <td>2014</td>\n",
       "      <td>5</td>\n",
       "      <td>Minnesota</td>\n",
       "      <td>intentional attack</td>\n",
       "      <td>88984.965517</td>\n",
       "      <td>1.0</td>\n",
       "      <td>5457125</td>\n",
       "      <td>False</td>\n",
       "    </tr>\n",
       "    <tr>\n",
       "      <td>2</td>\n",
       "      <td>2010</td>\n",
       "      <td>10</td>\n",
       "      <td>Minnesota</td>\n",
       "      <td>severe weather</td>\n",
       "      <td>70000.000000</td>\n",
       "      <td>3000.0</td>\n",
       "      <td>5310903</td>\n",
       "      <td>True</td>\n",
       "    </tr>\n",
       "    <tr>\n",
       "      <td>3</td>\n",
       "      <td>2012</td>\n",
       "      <td>6</td>\n",
       "      <td>Minnesota</td>\n",
       "      <td>severe weather</td>\n",
       "      <td>68200.000000</td>\n",
       "      <td>2550.0</td>\n",
       "      <td>5380443</td>\n",
       "      <td>True</td>\n",
       "    </tr>\n",
       "    <tr>\n",
       "      <td>4</td>\n",
       "      <td>2015</td>\n",
       "      <td>7</td>\n",
       "      <td>Minnesota</td>\n",
       "      <td>severe weather</td>\n",
       "      <td>250000.000000</td>\n",
       "      <td>1740.0</td>\n",
       "      <td>5489594</td>\n",
       "      <td>True</td>\n",
       "    </tr>\n",
       "  </tbody>\n",
       "</table>\n",
       "</div>"
      ],
      "text/plain": [
       "   YEAR MONTH U.S._STATE      CAUSE.CATEGORY  CUSTOMERS.AFFECTED  \\\n",
       "0  2011     7  Minnesota      severe weather        70000.000000   \n",
       "1  2014     5  Minnesota  intentional attack        88984.965517   \n",
       "2  2010    10  Minnesota      severe weather        70000.000000   \n",
       "3  2012     6  Minnesota      severe weather        68200.000000   \n",
       "4  2015     7  Minnesota      severe weather       250000.000000   \n",
       "\n",
       "   OUTAGE.DURATION POPULATION  SEVERE_OUTAGE  \n",
       "0           3060.0    5348119           True  \n",
       "1              1.0    5457125          False  \n",
       "2           3000.0    5310903           True  \n",
       "3           2550.0    5380443           True  \n",
       "4           1740.0    5489594           True  "
      ]
     },
     "execution_count": 128,
     "metadata": {},
     "output_type": "execute_result"
    }
   ],
   "source": [
    "outages_for_model.head()"
   ]
  },
  {
   "cell_type": "markdown",
   "metadata": {},
   "source": [
    "This helper is for seperating the causes into two category of human caused which is True and nature caused which is False. By doing this we can see if there is a correlation with what caused the outage and what kind of outage happened."
   ]
  },
  {
   "cell_type": "code",
   "execution_count": 31,
   "metadata": {},
   "outputs": [],
   "source": [
    "def n_cause(x):\n",
    "    if x == \"severe weather\":\n",
    "        return False\n",
    "    else:\n",
    "        return True"
   ]
  },
  {
   "cell_type": "markdown",
   "metadata": {},
   "source": [
    "This helper is seperating the months into the different seasons, we what to use this to find if major outages have anything to do with what season we are in at the time."
   ]
  },
  {
   "cell_type": "code",
   "execution_count": 32,
   "metadata": {},
   "outputs": [],
   "source": [
    "def season_transform(x):\n",
    "    if (x == 12) | (x == 1) | (x == 2):\n",
    "        return \"Winter\"\n",
    "    if (x == 3) | (x == 4) | (x == 5):\n",
    "        return \"Spring\"\n",
    "    if (x == 6) | (x == 7) | (x == 8):\n",
    "        return \"Summer\"\n",
    "    else:\n",
    "        return \"Fall\""
   ]
  },
  {
   "cell_type": "markdown",
   "metadata": {},
   "source": [
    "We created five new features: months to season pipeline, cause category to men caused or non-men caused, quantile transformed outage duration and population, and Binarized the customers affected. This is our final model pipelines."
   ]
  },
  {
   "cell_type": "code",
   "execution_count": 40,
   "metadata": {},
   "outputs": [],
   "source": [
    "final_score = []\n",
    "recall_score = []\n",
    "for i in range(100):\n",
    "    \n",
    "    pl_season = Pipeline(steps=[\n",
    "        (\"t_season\", FunctionTransformer(lambda x: pd.DataFrame(np.apply_along_axis(season_transform, 1, x)))), \n",
    "        (\"t_one_hot\", OneHotEncoder(handle_unknown = 'ignore'))\n",
    "    ])\n",
    "    \n",
    "    pl_cause = Pipeline(steps=[\n",
    "        (\"t_cause\", FunctionTransformer(lambda x: pd.DataFrame(x['CAUSE.CATEGORY'].apply(n_cause)), validate = False)), \n",
    "        (\"t_one_hot\", OneHotEncoder(handle_unknown = 'ignore'))\n",
    "    ])\n",
    "    \n",
    "    preproc = ColumnTransformer(transformers=[(\"seasons_t\", pl_season, [\"MONTH\"]),\n",
    "                                              (\"causes\", pl_cause, [\"CAUSE.CATEGORY\"]),\n",
    "                                              ('encode', OneHotEncoder(handle_unknown = 'ignore'),['U.S._STATE','YEAR',\"CAUSE.CATEGORY\"]),\n",
    "                                              ('qt', QuantileTransformer(), ['OUTAGE.DURATION',\"POPULATION\"]),\n",
    "                                              (\"b_trans\", Binarizer(threshold=1000), [\"CUSTOMERS.AFFECTED\"])\n",
    "                                             ])\n",
    "\n",
    "    pl = Pipeline(steps = [('preprocessor',preproc), \n",
    "                           ('baseline classification', LinearSVC())])\n",
    "\n",
    "    X = outages_for_model.drop(['SEVERE_OUTAGE'], axis = 1)\n",
    "    y = outages_for_model.SEVERE_OUTAGE\n",
    "    X_train, X_test, y_train, y_test = train_test_split(X, y, test_size=0.3)\n",
    "    pl.fit(X_train, y_train)\n",
    "    final_score.append(pl.score(X_test, y_test))\n",
    "    pred = pl.predict(X_test)\n",
    "    recall_score.append(metrics.recall_score(y_test, pred))"
   ]
  },
  {
   "cell_type": "markdown",
   "metadata": {},
   "source": [
    "With our final model and all the improvements, our mean accuracy score is 0.95"
   ]
  },
  {
   "cell_type": "code",
   "execution_count": 129,
   "metadata": {},
   "outputs": [
    {
     "data": {
      "text/plain": [
       "0.9587810383747178"
      ]
     },
     "execution_count": 129,
     "metadata": {},
     "output_type": "execute_result"
    }
   ],
   "source": [
    "np.mean(final_score)"
   ]
  },
  {
   "cell_type": "markdown",
   "metadata": {},
   "source": [
    "The recall scores in the final model are all above 0.95, which is a significant improvement from the basic model"
   ]
  },
  {
   "cell_type": "code",
   "execution_count": 42,
   "metadata": {},
   "outputs": [
    {
     "data": {
      "text/plain": [
       "<matplotlib.axes._subplots.AxesSubplot at 0x228fb599b88>"
      ]
     },
     "execution_count": 42,
     "metadata": {},
     "output_type": "execute_result"
    },
    {
     "data": {
      "image/png": "[encoded data removed]",
      "text/plain": [
       "<Figure size 432x288 with 1 Axes>"
      ]
     },
     "metadata": {
      "image/png": {
       "height": 248,
       "width": 378
      },
      "needs_background": "light"
     },
     "output_type": "display_data"
    }
   ],
   "source": [
    "pd.Series(recall_score).hist()"
   ]
  },
  {
   "cell_type": "markdown",
   "metadata": {},
   "source": [
    "The predicitons of the final model is better than the basic model 100% of the time."
   ]
  },
  {
   "cell_type": "code",
   "execution_count": 35,
   "metadata": {},
   "outputs": [
    {
     "data": {
      "text/plain": [
       "100"
      ]
     },
     "execution_count": 35,
     "metadata": {},
     "output_type": "execute_result"
    }
   ],
   "source": [
    "(pd.Series(basic_score) < pd.Series(final_score)).sum()"
   ]
  },
  {
   "cell_type": "markdown",
   "metadata": {},
   "source": [
    "### Fairness Evaluation"
   ]
  },
  {
   "cell_type": "code",
   "execution_count": 38,
   "metadata": {},
   "outputs": [
    {
     "data": {
      "text/html": [
       "<div>\n",
       "<style scoped>\n",
       "    .dataframe tbody tr th:only-of-type {\n",
       "        vertical-align: middle;\n",
       "    }\n",
       "\n",
       "    .dataframe tbody tr th {\n",
       "        vertical-align: top;\n",
       "    }\n",
       "\n",
       "    .dataframe thead th {\n",
       "        text-align: right;\n",
       "    }\n",
       "</style>\n",
       "<table border=\"1\" class=\"dataframe\">\n",
       "  <thead>\n",
       "    <tr style=\"text-align: right;\">\n",
       "      <th></th>\n",
       "      <th>YEAR</th>\n",
       "      <th>MONTH</th>\n",
       "      <th>U.S._STATE</th>\n",
       "      <th>CAUSE.CATEGORY</th>\n",
       "      <th>CUSTOMERS.AFFECTED</th>\n",
       "      <th>OUTAGE.DURATION</th>\n",
       "      <th>POPULATION</th>\n",
       "      <th>SEVERE_OUTAGE</th>\n",
       "    </tr>\n",
       "  </thead>\n",
       "  <tbody>\n",
       "    <tr>\n",
       "      <td>0</td>\n",
       "      <td>2011</td>\n",
       "      <td>7</td>\n",
       "      <td>Minnesota</td>\n",
       "      <td>severe weather</td>\n",
       "      <td>70000.000000</td>\n",
       "      <td>3060.0</td>\n",
       "      <td>5348119</td>\n",
       "      <td>True</td>\n",
       "    </tr>\n",
       "    <tr>\n",
       "      <td>1</td>\n",
       "      <td>2014</td>\n",
       "      <td>5</td>\n",
       "      <td>Minnesota</td>\n",
       "      <td>intentional attack</td>\n",
       "      <td>88984.965517</td>\n",
       "      <td>1.0</td>\n",
       "      <td>5457125</td>\n",
       "      <td>False</td>\n",
       "    </tr>\n",
       "    <tr>\n",
       "      <td>2</td>\n",
       "      <td>2010</td>\n",
       "      <td>10</td>\n",
       "      <td>Minnesota</td>\n",
       "      <td>severe weather</td>\n",
       "      <td>70000.000000</td>\n",
       "      <td>3000.0</td>\n",
       "      <td>5310903</td>\n",
       "      <td>True</td>\n",
       "    </tr>\n",
       "    <tr>\n",
       "      <td>3</td>\n",
       "      <td>2012</td>\n",
       "      <td>6</td>\n",
       "      <td>Minnesota</td>\n",
       "      <td>severe weather</td>\n",
       "      <td>68200.000000</td>\n",
       "      <td>2550.0</td>\n",
       "      <td>5380443</td>\n",
       "      <td>True</td>\n",
       "    </tr>\n",
       "    <tr>\n",
       "      <td>4</td>\n",
       "      <td>2015</td>\n",
       "      <td>7</td>\n",
       "      <td>Minnesota</td>\n",
       "      <td>severe weather</td>\n",
       "      <td>250000.000000</td>\n",
       "      <td>1740.0</td>\n",
       "      <td>5489594</td>\n",
       "      <td>True</td>\n",
       "    </tr>\n",
       "  </tbody>\n",
       "</table>\n",
       "</div>"
      ],
      "text/plain": [
       "   YEAR MONTH U.S._STATE      CAUSE.CATEGORY  CUSTOMERS.AFFECTED  \\\n",
       "0  2011     7  Minnesota      severe weather        70000.000000   \n",
       "1  2014     5  Minnesota  intentional attack        88984.965517   \n",
       "2  2010    10  Minnesota      severe weather        70000.000000   \n",
       "3  2012     6  Minnesota      severe weather        68200.000000   \n",
       "4  2015     7  Minnesota      severe weather       250000.000000   \n",
       "\n",
       "   OUTAGE.DURATION POPULATION  SEVERE_OUTAGE  \n",
       "0           3060.0    5348119           True  \n",
       "1              1.0    5457125          False  \n",
       "2           3000.0    5310903           True  \n",
       "3           2550.0    5380443           True  \n",
       "4           1740.0    5489594           True  "
      ]
     },
     "execution_count": 38,
     "metadata": {},
     "output_type": "execute_result"
    }
   ],
   "source": [
    "outages_for_model.head()"
   ]
  },
  {
   "cell_type": "markdown",
   "metadata": {},
   "source": [
    "We first create a recall_df with the columns of binarized year bin, predictions from X_test dataset, and the real_y"
   ]
  },
  {
   "cell_type": "code",
   "execution_count": 108,
   "metadata": {},
   "outputs": [
    {
     "data": {
      "text/html": [
       "<div>\n",
       "<style scoped>\n",
       "    .dataframe tbody tr th:only-of-type {\n",
       "        vertical-align: middle;\n",
       "    }\n",
       "\n",
       "    .dataframe tbody tr th {\n",
       "        vertical-align: top;\n",
       "    }\n",
       "\n",
       "    .dataframe thead th {\n",
       "        text-align: right;\n",
       "    }\n",
       "</style>\n",
       "<table border=\"1\" class=\"dataframe\">\n",
       "  <thead>\n",
       "    <tr style=\"text-align: right;\">\n",
       "      <th></th>\n",
       "      <th>year_bin</th>\n",
       "      <th>predictions</th>\n",
       "      <th>real_y</th>\n",
       "    </tr>\n",
       "  </thead>\n",
       "  <tbody>\n",
       "    <tr>\n",
       "      <td>0</td>\n",
       "      <td>False</td>\n",
       "      <td>False</td>\n",
       "      <td>False</td>\n",
       "    </tr>\n",
       "    <tr>\n",
       "      <td>1</td>\n",
       "      <td>False</td>\n",
       "      <td>False</td>\n",
       "      <td>False</td>\n",
       "    </tr>\n",
       "    <tr>\n",
       "      <td>2</td>\n",
       "      <td>False</td>\n",
       "      <td>True</td>\n",
       "      <td>True</td>\n",
       "    </tr>\n",
       "    <tr>\n",
       "      <td>3</td>\n",
       "      <td>True</td>\n",
       "      <td>True</td>\n",
       "      <td>True</td>\n",
       "    </tr>\n",
       "    <tr>\n",
       "      <td>4</td>\n",
       "      <td>True</td>\n",
       "      <td>True</td>\n",
       "      <td>True</td>\n",
       "    </tr>\n",
       "  </tbody>\n",
       "</table>\n",
       "</div>"
      ],
      "text/plain": [
       "   year_bin  predictions  real_y\n",
       "0     False        False   False\n",
       "1     False        False   False\n",
       "2     False         True    True\n",
       "3      True         True    True\n",
       "4      True         True    True"
      ]
     },
     "execution_count": 108,
     "metadata": {},
     "output_type": "execute_result"
    }
   ],
   "source": [
    "recall_df = pd.DataFrame()\n",
    "\n",
    "preproc = ColumnTransformer(transformers=[\n",
    "                                          ('encode', OneHotEncoder(handle_unknown = 'ignore'),['U.S._STATE','YEAR']),\n",
    "                                          ('qt', QuantileTransformer(), ['OUTAGE.DURATION',\"POPULATION\"]),\n",
    "                                          (\"b_trans\", Binarizer(threshold=1000), [\"CUSTOMERS.AFFECTED\"])\n",
    "                                         ])\n",
    "pl = Pipeline(steps = [('preprocessor',preproc), \n",
    "                       ('baseline classification', LinearSVC())])\n",
    "X = outages_for_model.drop(['SEVERE_OUTAGE'], axis = 1)\n",
    "y = outages_for_model.SEVERE_OUTAGE\n",
    "X_train, X_test, y_train, y_test = train_test_split(X, y, test_size=0.3)\n",
    "pl.fit(X_train, y_train)\n",
    "recall_df['year_bin'] = (X_test.YEAR >= 2012).reset_index(drop = True)\n",
    "recall_df['predictions'] = pl.predict(X_test)\n",
    "recall_df['real_y'] = y_test.reset_index(drop = True)\n",
    "recall_df.head()"
   ]
  },
  {
   "cell_type": "markdown",
   "metadata": {},
   "source": [
    "We then grouped the recall score based on year_bin, notice the recall score of the prediction is relatively high"
   ]
  },
  {
   "cell_type": "code",
   "execution_count": 101,
   "metadata": {},
   "outputs": [
    {
     "data": {
      "text/html": [
       "<div>\n",
       "<style scoped>\n",
       "    .dataframe tbody tr th:only-of-type {\n",
       "        vertical-align: middle;\n",
       "    }\n",
       "\n",
       "    .dataframe tbody tr th {\n",
       "        vertical-align: top;\n",
       "    }\n",
       "\n",
       "    .dataframe thead th {\n",
       "        text-align: right;\n",
       "    }\n",
       "</style>\n",
       "<table border=\"1\" class=\"dataframe\">\n",
       "  <thead>\n",
       "    <tr style=\"text-align: right;\">\n",
       "      <th></th>\n",
       "      <th>recall</th>\n",
       "    </tr>\n",
       "    <tr>\n",
       "      <th>year_bin</th>\n",
       "      <th></th>\n",
       "    </tr>\n",
       "  </thead>\n",
       "  <tbody>\n",
       "    <tr>\n",
       "      <td>False</td>\n",
       "      <td>0.990338</td>\n",
       "    </tr>\n",
       "    <tr>\n",
       "      <td>True</td>\n",
       "      <td>0.951220</td>\n",
       "    </tr>\n",
       "  </tbody>\n",
       "</table>\n",
       "</div>"
      ],
      "text/plain": [
       "            recall\n",
       "year_bin          \n",
       "False     0.990338\n",
       "True      0.951220"
      ]
     },
     "execution_count": 101,
     "metadata": {},
     "output_type": "execute_result"
    }
   ],
   "source": [
    "(\n",
    "    recall_df\n",
    "    .groupby('year_bin')\n",
    "    .apply(lambda x: metrics.recall_score(x.real_y, x.predictions))\n",
    "    .rename('recall')\n",
    "    .to_frame()\n",
    ")"
   ]
  },
  {
   "cell_type": "markdown",
   "metadata": {},
   "source": [
    "We the performed the permutation test on the recall_df an ran the recall score based on year_bin grouped. We appened the result to metrs."
   ]
  },
  {
   "cell_type": "code",
   "execution_count": 106,
   "metadata": {},
   "outputs": [],
   "source": [
    "obs = recall_df.groupby('year_bin').apply(lambda x: metrics.recall_score(x.real_y, x.predictions)).diff().iloc[-1]\n",
    "\n",
    "metrs = []\n",
    "for _ in range(100):\n",
    "    s = (\n",
    "        recall_df[['year_bin', 'predictions', 'real_y']]\n",
    "        .assign(year_bin=recall_df.year_bin.sample(frac=1.0, replace=False).reset_index(drop=True))\n",
    "        .groupby('year_bin')\n",
    "        .apply(lambda x: metrics.recall_score(x.real_y, x.predictions))\n",
    "        .diff()\n",
    "        .iloc[-1]\n",
    "    )\n",
    "    \n",
    "    metrs.append(s)"
   ]
  },
  {
   "cell_type": "markdown",
   "metadata": {},
   "source": [
    "We plotted the metrs and noticed the p-value to be 0.01, in which we reject the null hypothesis and take the alternative hypthoesis (The recall scores for before 2012 and after 2012 is significantly differnt) at 5 percent test statistic."
   ]
  },
  {
   "cell_type": "code",
   "execution_count": 107,
   "metadata": {},
   "outputs": [
    {
     "name": "stdout",
     "output_type": "stream",
     "text": [
      "0.01\n"
     ]
    },
    {
     "data": {
      "image/png": "[encoded data removed]",
      "text/plain": [
       "<Figure size 432x288 with 1 Axes>"
      ]
     },
     "metadata": {
      "image/png": {
       "height": 263,
       "width": 417
      },
      "needs_background": "light"
     },
     "output_type": "display_data"
    }
   ],
   "source": [
    "print(pd.Series(metrs <= obs).mean())\n",
    "pd.Series(metrs).plot(kind='hist', title='Permutation Test for Difference in Recall Scores for Different Years')\n",
    "plt.scatter(obs, 0, c='r');"
   ]
  },
  {
   "cell_type": "markdown",
   "metadata": {},
   "source": [
    "##### P-value obervation:\n",
    "- We found the p-value to be 0.01 for 100 iteration, therefore we reject the null hypothesis and take the alternative hypthoesis (The recall scores for before 2012 and after 2012 is significantly differnt) at 5 percent test statistic.\n",
    "\n",
    "##### Why is the recall scores before 2012 and after 2012 significantly different? \n",
    "- We believe it is because there are more severe outages before 2012 and the model could better study the correlation for prediction. You can see the graph we had made below.\n",
    "- We also believe the difference in recall score is not that important, because our lowest score is still above 0.95, so the correct prediction accuracy is still relatively high."
   ]
  }
 ],
 "metadata": {
  "kernelspec": {
   "display_name": "Python 3",
   "language": "python",
   "name": "python3"
  },
  "language_info": {
   "codemirror_mode": {
    "name": "ipython",
    "version": 3
   },
   "file_extension": ".py",
   "mimetype": "text/x-python",
   "name": "python",
   "nbconvert_exporter": "python",
   "pygments_lexer": "ipython3",
   "version": "3.7.6"
  }
 },
 "nbformat": 4,
 "nbformat_minor": 4
}
